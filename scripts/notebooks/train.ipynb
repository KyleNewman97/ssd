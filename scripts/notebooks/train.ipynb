{
 "cells": [
  {
   "cell_type": "code",
   "execution_count": 3,
   "id": "ff8bd142",
   "metadata": {},
   "outputs": [],
   "source": [
    "from pathlib import Path\n",
    "\n",
    "from ssd import SSD"
   ]
  },
  {
   "cell_type": "code",
   "execution_count": 4,
   "id": "fce4a3a4",
   "metadata": {},
   "outputs": [],
   "source": [
    "VAL_IMAGES_DIR = Path(\"/mnt/data/datasets/object_detection/coco/images/val2017\")\n",
    "VAL_LABELS_DIR = Path(\"/mnt/data/datasets/object_detection/coco/labels/val2017\")"
   ]
  },
  {
   "cell_type": "code",
   "execution_count": 11,
   "id": "de0bd0e3",
   "metadata": {},
   "outputs": [],
   "source": [
    "# Find all validation images and labels - make sure both exist\n",
    "val_image_paths = list(VAL_IMAGES_DIR.glob(\"*.jpg\"))\n",
    "val_label_paths = list(VAL_LABELS_DIR.glob(\"*.txt\"))\n",
    "\n",
    "stem_to_image_path = {f.stem: f for f in val_image_paths}\n",
    "stem_to_label_path = {f.stem: f for f in val_label_paths}\n",
    "\n",
    "image_label_pairs: list[tuple[Path, Path]] = []\n",
    "for stem in stem_to_image_path:\n",
    "    if stem in stem_to_label_path:\n",
    "        image_label_pairs.append((stem_to_image_path[stem], stem_to_label_path[stem]))"
   ]
  },
  {
   "cell_type": "code",
   "execution_count": 2,
   "id": "d478e0a1",
   "metadata": {},
   "outputs": [],
   "source": [
    "model = SSD(80)"
   ]
  },
  {
   "cell_type": "code",
   "execution_count": null,
   "id": "e1f1e534",
   "metadata": {},
   "outputs": [],
   "source": []
  }
 ],
 "metadata": {
  "kernelspec": {
   "display_name": "ssd-3.11",
   "language": "python",
   "name": "python3"
  },
  "language_info": {
   "codemirror_mode": {
    "name": "ipython",
    "version": 3
   },
   "file_extension": ".py",
   "mimetype": "text/x-python",
   "name": "python",
   "nbconvert_exporter": "python",
   "pygments_lexer": "ipython3",
   "version": "3.11.13"
  }
 },
 "nbformat": 4,
 "nbformat_minor": 5
}
