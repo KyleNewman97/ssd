{
 "cells": [
  {
   "cell_type": "code",
   "execution_count": null,
   "id": "ff8bd142",
   "metadata": {},
   "outputs": [],
   "source": [
    "from pathlib import Path\n",
    "\n",
    "import cv2\n",
    "import matplotlib.pyplot as plt\n",
    "import numpy as np\n",
    "from torch import Tensor\n",
    "from torch.optim import SGD\n",
    "from torch.optim.lr_scheduler import ChainedScheduler, CosineAnnealingLR, LinearLR\n",
    "\n",
    "from ssd import SSD\n",
    "from ssd.structs import TrainConfig"
   ]
  },
  {
   "cell_type": "markdown",
   "id": "d1a6b809",
   "metadata": {},
   "source": [
    "### Train the model"
   ]
  },
  {
   "cell_type": "code",
   "execution_count": null,
   "id": "fce4a3a4",
   "metadata": {},
   "outputs": [],
   "source": [
    "TRAIN_CONFIG = TrainConfig(\n",
    "    num_epochs=2,\n",
    "    num_classes=80,\n",
    "    train_images_dir=Path(\"/mnt/data/datasets/object_detection/coco/images/train2017\"),\n",
    "    train_labels_dir=Path(\"/mnt/data/datasets/object_detection/coco/labels/train2017\"),\n",
    "    val_images_dir=Path(\"/mnt/data/datasets/object_detection/coco/images/val2017\"),\n",
    "    val_labels_dir=Path(\"/mnt/data/datasets/object_detection/coco/labels/val2017\")\n",
    ")"
   ]
  },
  {
   "cell_type": "code",
   "execution_count": null,
   "id": "d478e0a1",
   "metadata": {},
   "outputs": [],
   "source": [
    "model = SSD(TRAIN_CONFIG.num_classes)"
   ]
  },
  {
   "cell_type": "code",
   "execution_count": null,
   "id": "ca40021f",
   "metadata": {},
   "outputs": [],
   "source": [
    "train_loader, val_loader = model._create_data_loaders(TRAIN_CONFIG)"
   ]
  },
  {
   "cell_type": "code",
   "execution_count": null,
   "id": "576dcb9c",
   "metadata": {},
   "outputs": [],
   "source": [
    " # Create the optimiser and learning rate scheduler\n",
    "optimiser = SGD(\n",
    "    model.parameters(),\n",
    "    lr=TRAIN_CONFIG.lr0,\n",
    "    momentum=TRAIN_CONFIG.momentum,\n",
    "    weight_decay=TRAIN_CONFIG.weight_decay,\n",
    ")\n",
    "scheduler = ChainedScheduler(\n",
    "    [\n",
    "        LinearLR(optimiser, total_iters=3),\n",
    "        CosineAnnealingLR(optimiser, T_max=TRAIN_CONFIG.num_epochs),\n",
    "    ],\n",
    "    optimiser,\n",
    ")"
   ]
  },
  {
   "cell_type": "markdown",
   "id": "6a7f4e57",
   "metadata": {},
   "source": [
    "### Ensure loaded images and labels are correct"
   ]
  },
  {
   "cell_type": "code",
   "execution_count": null,
   "id": "f8ac1acc",
   "metadata": {},
   "outputs": [],
   "source": [
    "images: Tensor\n",
    "objects: list[Tensor]\n",
    "images, objects = next(iter(train_loader))"
   ]
  },
  {
   "cell_type": "code",
   "execution_count": null,
   "id": "64ce4f2c",
   "metadata": {},
   "outputs": [],
   "source": [
    "image_index = 6\n",
    "\n",
    "np_image = images[image_index, ...].permute((1, 2, 0)).cpu().numpy()\n",
    "np_image *= 255\n",
    "np_image = np_image.astype(np.uint8).copy()\n",
    "\n",
    "for obj in objects[image_index]:\n",
    "    cx = obj[1] * np_image.shape[1]\n",
    "    cy = obj[2] * np_image.shape[0]\n",
    "    w = obj[3] * np_image.shape[1]\n",
    "    h = obj[4] * np_image.shape[0]\n",
    "\n",
    "    left = int(cx - w/2)\n",
    "    right = int(cx + w/2)\n",
    "    top = int(cy - h/2)\n",
    "    bottom = int(cy + h/2)\n",
    "\n",
    "    class_id = int(obj[0])\n",
    "\n",
    "    np_image = cv2.rectangle(np_image, (left, top), (right, bottom), (255, 0, 0), 1)\n",
    "    np_image = cv2.putText(np_image, f\"{class_id}\", (left, top), 0, 0.4, (255, 0, 0), 1)\n",
    "\n",
    "\n",
    "plt.imshow(np_image)"
   ]
  },
  {
   "cell_type": "code",
   "execution_count": null,
   "id": "26b0dccf",
   "metadata": {},
   "outputs": [],
   "source": [
    "# # Zero the gradients - this is required on each mini-batch\n",
    "optimiser.zero_grad()"
   ]
  }
 ],
 "metadata": {
  "kernelspec": {
   "display_name": "ssd-3.11",
   "language": "python",
   "name": "python3"
  },
  "language_info": {
   "codemirror_mode": {
    "name": "ipython",
    "version": 3
   },
   "file_extension": ".py",
   "mimetype": "text/x-python",
   "name": "python",
   "nbconvert_exporter": "python",
   "pygments_lexer": "ipython3",
   "version": "3.11.13"
  }
 },
 "nbformat": 4,
 "nbformat_minor": 5
}
