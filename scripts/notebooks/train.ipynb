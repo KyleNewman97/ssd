{
 "cells": [
  {
   "cell_type": "code",
   "execution_count": null,
   "id": "ff8bd142",
   "metadata": {},
   "outputs": [],
   "source": [
    "from pathlib import Path\n",
    "\n",
    "from ssd import SSD\n",
    "from ssd.structs import TrainConfig"
   ]
  },
  {
   "cell_type": "markdown",
   "id": "d1a6b809",
   "metadata": {},
   "source": [
    "### Train the model"
   ]
  },
  {
   "cell_type": "code",
   "execution_count": null,
   "id": "fce4a3a4",
   "metadata": {},
   "outputs": [],
   "source": [
    "TRAIN_CONFIG = TrainConfig(\n",
    "    num_epochs=2,\n",
    "    num_classes=80,\n",
    "    train_images_dir=Path(\"/mnt/data/datasets/object_detection/coco/images/train2017\"),\n",
    "    train_labels_dir=Path(\"/mnt/data/datasets/object_detection/coco/labels/train2017\"),\n",
    "    val_images_dir=Path(\"/mnt/data/datasets/object_detection/coco/images/val2017\"),\n",
    "    val_labels_dir=Path(\"/mnt/data/datasets/object_detection/coco/labels/val2017\")\n",
    ")"
   ]
  },
  {
   "cell_type": "code",
   "execution_count": null,
   "id": "d478e0a1",
   "metadata": {},
   "outputs": [],
   "source": [
    "model = SSD(TRAIN_CONFIG.num_classes)\n",
    "model.fit(TRAIN_CONFIG)"
   ]
  },
  {
   "cell_type": "code",
   "execution_count": 1,
   "id": "3a1ec120",
   "metadata": {},
   "outputs": [],
   "source": [
    "import torch"
   ]
  },
  {
   "cell_type": "code",
   "execution_count": 2,
   "id": "f7e9ec69",
   "metadata": {},
   "outputs": [],
   "source": [
    "x = [torch.rand((2, 5)), torch.rand((0, 5))]"
   ]
  },
  {
   "cell_type": "code",
   "execution_count": 3,
   "id": "93cbba54",
   "metadata": {},
   "outputs": [
    {
     "data": {
      "text/plain": [
       "[tensor([[0.3652, 0.0530, 0.9568, 0.3093],\n",
       "         [0.5280, 0.9635, 0.7014, 0.5667]]),\n",
       " tensor([], size=(0, 4))]"
      ]
     },
     "execution_count": 3,
     "metadata": {},
     "output_type": "execute_result"
    }
   ],
   "source": [
    "[o[:, 1:] for o in x]"
   ]
  },
  {
   "cell_type": "code",
   "execution_count": null,
   "id": "ca40021f",
   "metadata": {},
   "outputs": [],
   "source": []
  }
 ],
 "metadata": {
  "kernelspec": {
   "display_name": "ssd-3.11",
   "language": "python",
   "name": "python3"
  },
  "language_info": {
   "codemirror_mode": {
    "name": "ipython",
    "version": 3
   },
   "file_extension": ".py",
   "mimetype": "text/x-python",
   "name": "python",
   "nbconvert_exporter": "python",
   "pygments_lexer": "ipython3",
   "version": "3.11.13"
  }
 },
 "nbformat": 4,
 "nbformat_minor": 5
}
