{
 "cells": [
  {
   "cell_type": "code",
   "execution_count": 28,
   "id": "21e1d2c1",
   "metadata": {},
   "outputs": [],
   "source": [
    "from pathlib import Path\n",
    "\n",
    "import cv2\n",
    "import torch\n",
    "import matplotlib.pyplot as plt\n",
    "import numpy as np\n",
    "from torchvision.ops import box_convert\n",
    "\n",
    "from ssd.data import LetterboxTransform, SSDDataset"
   ]
  },
  {
   "cell_type": "code",
   "execution_count": 20,
   "id": "0ab001a6",
   "metadata": {},
   "outputs": [],
   "source": [
    "device = torch.device(\"cpu\")\n",
    "dtype = torch.float32\n",
    "transform = LetterboxTransform()"
   ]
  },
  {
   "cell_type": "code",
   "execution_count": 21,
   "id": "25175d4b",
   "metadata": {},
   "outputs": [],
   "source": [
    "# Read in a test image\n",
    "np_image = cv2.imread(\"/mnt/data/code/ssd/test_data/portrait.jpg\")\n",
    "image = torch.tensor(np_image, dtype=dtype, device=device)\n",
    "image = image.permute((2, 0, 1))\n",
    "\n",
    "# Define labels\n",
    "objects = SSDDataset.read_label_file(\n",
    "    Path(\"/mnt/data/code/ssd/test_data/portrait.txt\"), device, dtype\n",
    ")"
   ]
  },
  {
   "cell_type": "code",
   "execution_count": 22,
   "id": "3289f798",
   "metadata": {},
   "outputs": [],
   "source": [
    "# Apply the letterbox transform\n",
    "out_image, out_objects = transform(image, objects, device)"
   ]
  },
  {
   "cell_type": "code",
   "execution_count": 34,
   "id": "9a0d115e",
   "metadata": {},
   "outputs": [
    {
     "ename": "error",
     "evalue": "OpenCV(4.11.0) :-1: error: (-5:Bad argument) in function 'rectangle'\n> Overload resolution failed:\n>  - Layout of the output array img is incompatible with cv::Mat\n>  - Layout of the output array img is incompatible with cv::Mat\n>  - Expected Ptr<cv::UMat> for argument 'img'\n>  - Expected Ptr<cv::UMat> for argument 'img'\n",
     "output_type": "error",
     "traceback": [
      "\u001b[31m---------------------------------------------------------------------------\u001b[39m",
      "\u001b[31merror\u001b[39m                                     Traceback (most recent call last)",
      "\u001b[36mCell\u001b[39m\u001b[36m \u001b[39m\u001b[32mIn[34]\u001b[39m\u001b[32m, line 10\u001b[39m\n\u001b[32m      8\u001b[39m     p1 = (\u001b[38;5;28mint\u001b[39m(boxes[idx, \u001b[32m0\u001b[39m]), \u001b[38;5;28mint\u001b[39m(boxes[idx, \u001b[32m1\u001b[39m]))\n\u001b[32m      9\u001b[39m     p2 = (\u001b[38;5;28mint\u001b[39m(boxes[idx, \u001b[32m2\u001b[39m]), \u001b[38;5;28mint\u001b[39m(boxes[idx, \u001b[32m3\u001b[39m]))\n\u001b[32m---> \u001b[39m\u001b[32m10\u001b[39m     im = \u001b[43mcv2\u001b[49m\u001b[43m.\u001b[49m\u001b[43mrectangle\u001b[49m\u001b[43m(\u001b[49m\u001b[43mim\u001b[49m\u001b[43m,\u001b[49m\u001b[43m \u001b[49m\u001b[43mp1\u001b[49m\u001b[43m,\u001b[49m\u001b[43m \u001b[49m\u001b[43mp2\u001b[49m\u001b[43m,\u001b[49m\u001b[43m \u001b[49m\u001b[43mcolour\u001b[49m\u001b[43m,\u001b[49m\u001b[43m \u001b[49m\u001b[32;43m1\u001b[39;49m\u001b[43m)\u001b[49m\n\u001b[32m     12\u001b[39m plt.imshow(im)\n",
      "\u001b[31merror\u001b[39m: OpenCV(4.11.0) :-1: error: (-5:Bad argument) in function 'rectangle'\n> Overload resolution failed:\n>  - Layout of the output array img is incompatible with cv::Mat\n>  - Layout of the output array img is incompatible with cv::Mat\n>  - Expected Ptr<cv::UMat> for argument 'img'\n>  - Expected Ptr<cv::UMat> for argument 'img'\n"
     ]
    }
   ],
   "source": [
    "im = out_image.permute((1, 2, 0)).clone().cpu().numpy().astype(np.uint8)\n",
    "cv2.imwrite(\"letterboxed_portrait.png\", im)\n",
    "\n",
    "\n",
    "boxes = box_convert(out_objects.boxes, \"cxcywh\", \"xyxy\") * 300\n",
    "for idx in range(boxes.shape[0]):\n",
    "    colour = (\n",
    "        np.random.randint(0, 255),\n",
    "        np.random.randint(0, 255),\n",
    "        np.random.randint(0, 255),\n",
    "    )\n",
    "    p1 = (int(boxes[idx, 0]), int(boxes[idx, 1]))\n",
    "    p2 = (int(boxes[idx, 2]), int(boxes[idx, 3]))\n",
    "    im = cv2.rectangle(im, p1, p2, colour, 1)\n",
    "\n",
    "plt.imshow(im)"
   ]
  },
  {
   "cell_type": "code",
   "execution_count": 30,
   "id": "0c0089b5",
   "metadata": {},
   "outputs": [
    {
     "data": {
      "text/plain": [
       "208"
      ]
     },
     "execution_count": 30,
     "metadata": {},
     "output_type": "execute_result"
    }
   ],
   "source": [
    "np.random.randint(0, 255)"
   ]
  },
  {
   "cell_type": "code",
   "execution_count": 33,
   "id": "6836f457",
   "metadata": {},
   "outputs": [
    {
     "data": {
      "text/plain": [
       "FrameLabels(boxes=tensor([[0.4416, 0.3199, 0.7171, 0.3004],\n",
       "        [0.5112, 0.5183, 0.9774, 0.4560],\n",
       "        [0.4064, 0.2237, 0.5868, 0.2195],\n",
       "        [0.5132, 0.6877, 0.9737, 0.6000]]), class_ids_with_background=tensor([4, 4, 4, 4], dtype=torch.int32))"
      ]
     },
     "execution_count": 33,
     "metadata": {},
     "output_type": "execute_result"
    }
   ],
   "source": [
    "objects"
   ]
  },
  {
   "cell_type": "code",
   "execution_count": null,
   "id": "ac1f1051",
   "metadata": {},
   "outputs": [],
   "source": []
  }
 ],
 "metadata": {
  "kernelspec": {
   "display_name": "ssd-3.11 (3.11.13)",
   "language": "python",
   "name": "python3"
  },
  "language_info": {
   "codemirror_mode": {
    "name": "ipython",
    "version": 3
   },
   "file_extension": ".py",
   "mimetype": "text/x-python",
   "name": "python",
   "nbconvert_exporter": "python",
   "pygments_lexer": "ipython3",
   "version": "3.11.13"
  }
 },
 "nbformat": 4,
 "nbformat_minor": 5
}
