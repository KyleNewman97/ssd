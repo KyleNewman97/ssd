{
 "cells": [
  {
   "cell_type": "code",
   "execution_count": null,
   "id": "21e1d2c1",
   "metadata": {},
   "outputs": [],
   "source": [
    "from pathlib import Path\n",
    "\n",
    "import cv2\n",
    "import torch\n",
    "import matplotlib.pyplot as plt\n",
    "import numpy as np\n",
    "from torchvision.ops import box_convert\n",
    "\n",
    "from ssd.data import LetterboxTransform, SSDDataset"
   ]
  },
  {
   "cell_type": "code",
   "execution_count": null,
   "id": "0ab001a6",
   "metadata": {},
   "outputs": [],
   "source": [
    "device = torch.device(\"cpu\")\n",
    "dtype = torch.float32\n",
    "transform = LetterboxTransform()"
   ]
  },
  {
   "cell_type": "code",
   "execution_count": null,
   "id": "25175d4b",
   "metadata": {},
   "outputs": [],
   "source": [
    "# Read in a test image\n",
    "np_image = cv2.imread(\"\")\n",
    "image = torch.tensor(np_image, dtype=dtype, device=device)\n",
    "image = image.permute((2, 0, 1))\n",
    "\n",
    "# Define labels\n",
    "objects = SSDDataset.read_label_file(Path(\"\"), device, dtype)"
   ]
  },
  {
   "cell_type": "code",
   "execution_count": null,
   "id": "3289f798",
   "metadata": {},
   "outputs": [],
   "source": [
    "# Apply the letterbox transform\n",
    "out_image, out_objects = transform(image, objects, device)"
   ]
  },
  {
   "cell_type": "code",
   "execution_count": null,
   "id": "9a0d115e",
   "metadata": {},
   "outputs": [],
   "source": [
    "im = out_image.permute((1, 2, 0)).clone().cpu().numpy().astype(np.uint8)\n",
    "cv2.imwrite(\"letterboxed_portrait.png\", im)\n",
    "\n",
    "\n",
    "boxes = box_convert(out_objects.boxes, \"cxcywh\", \"xyxy\") * 300\n",
    "for idx in range(boxes.shape[0]):\n",
    "    colour = (\n",
    "        np.random.randint(0, 255),\n",
    "        np.random.randint(0, 255),\n",
    "        np.random.randint(0, 255),\n",
    "    )\n",
    "    p1 = (int(boxes[idx, 0]), int(boxes[idx, 1]))\n",
    "    p2 = (int(boxes[idx, 2]), int(boxes[idx, 3]))\n",
    "    im = cv2.rectangle(im, p1, p2, colour, 1)\n",
    "\n",
    "plt.imshow(im)"
   ]
  },
  {
   "cell_type": "code",
   "execution_count": null,
   "id": "0c0089b5",
   "metadata": {},
   "outputs": [],
   "source": [
    "np.random.randint(0, 255)"
   ]
  },
  {
   "cell_type": "code",
   "execution_count": null,
   "id": "6836f457",
   "metadata": {},
   "outputs": [],
   "source": [
    "objects"
   ]
  },
  {
   "cell_type": "code",
   "execution_count": null,
   "id": "ac1f1051",
   "metadata": {},
   "outputs": [],
   "source": []
  }
 ],
 "metadata": {
  "kernelspec": {
   "display_name": "ssd-3.11 (3.11.13)",
   "language": "python",
   "name": "python3"
  },
  "language_info": {
   "codemirror_mode": {
    "name": "ipython",
    "version": 3
   },
   "file_extension": ".py",
   "mimetype": "text/x-python",
   "name": "python",
   "nbconvert_exporter": "python",
   "pygments_lexer": "ipython3",
   "version": "3.11.13"
  }
 },
 "nbformat": 4,
 "nbformat_minor": 5
}
