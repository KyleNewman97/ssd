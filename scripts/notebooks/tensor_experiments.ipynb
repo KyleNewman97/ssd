{
 "cells": [
  {
   "cell_type": "code",
   "execution_count": null,
   "id": "2307bf48",
   "metadata": {},
   "outputs": [],
   "source": [
    "from pathlib import Path\n",
    "\n",
    "import cv2\n",
    "import matplotlib.pyplot as plt\n",
    "\n",
    "from ssd.data import SSDDataset"
   ]
  },
  {
   "cell_type": "code",
   "execution_count": null,
   "id": "b1a9a67f",
   "metadata": {},
   "outputs": [],
   "source": []
  },
  {
   "cell_type": "markdown",
   "id": "4d12cbe3",
   "metadata": {},
   "source": [
    "### Display label on original image"
   ]
  },
  {
   "cell_type": "code",
   "execution_count": null,
   "id": "ddd9022e",
   "metadata": {},
   "outputs": [],
   "source": [
    "im = cv2.imread(\"/mnt/data/code/ssd/test_data/dog.jpg\")\n",
    "im = cv2.cvtColor(im, cv2.COLOR_BGR2RGB)"
   ]
  },
  {
   "cell_type": "code",
   "execution_count": null,
   "id": "71f15210",
   "metadata": {},
   "outputs": [],
   "source": [
    "objects = SSDDataset.read_label_file(Path(\"/mnt/data/code/ssd/test_data/dog.txt\"))\n",
    "cx, cy, w, h = objects[0, 1:].numpy()\n",
    "cx *= im.shape[1]\n",
    "cy *= im.shape[0]\n",
    "w *= im.shape[1]\n",
    "h *= im.shape[0]\n",
    "\n",
    "left = int(cx - w / 2)\n",
    "right = int(cx + w / 2)\n",
    "top = int(cy - h / 2)\n",
    "bottom = int(cy + h / 2)\n",
    "\n",
    "im = cv2.rectangle(im, (left, top), (right, bottom), (255, 0, 0), thickness=2)"
   ]
  },
  {
   "cell_type": "code",
   "execution_count": null,
   "id": "26201f89",
   "metadata": {},
   "outputs": [],
   "source": [
    "plt.imshow(im)"
   ]
  },
  {
   "cell_type": "markdown",
   "id": "20b36ac0",
   "metadata": {},
   "source": [
    "### Display label on letterboxed image"
   ]
  },
  {
   "cell_type": "code",
   "execution_count": null,
   "id": "f9adf3eb",
   "metadata": {},
   "outputs": [],
   "source": [
    "from pathlib import Path\n",
    "\n",
    "import cv2\n",
    "import torch\n",
    "import matplotlib.pyplot as plt\n",
    "import numpy as np\n",
    "\n",
    "from ssd.data import LetterboxTransform, SSDDataset"
   ]
  },
  {
   "cell_type": "code",
   "execution_count": null,
   "id": "4886eefe",
   "metadata": {},
   "outputs": [],
   "source": [
    "im = cv2.imread(\"/mnt/data/code/ssd/test_data/dog.jpg\")\n",
    "im = cv2.cvtColor(im, cv2.COLOR_BGR2RGB)\n",
    "im_tensor = torch.tensor(im).permute((2, 0, 1))\n",
    "\n",
    "objs = SSDDataset.read_label_file(Path(\"/mnt/data/code/ssd/test_data/dog.txt\"))\n",
    "\n",
    "transform = LetterboxTransform()\n",
    "out_im, out_objs = transform(im_tensor, objs)\n",
    "out_im = out_im.permute((1, 2, 0)).numpy().astype(dtype=np.uint8).copy()\n",
    "\n",
    "cx, cy, w, h = out_objs[0, 1:].numpy()\n",
    "cx *= out_im.shape[1]\n",
    "cy *= out_im.shape[0]\n",
    "w *= out_im.shape[1]\n",
    "h *= out_im.shape[0]\n",
    "\n",
    "left = int(cx - w / 2)\n",
    "right = int(cx + w / 2)\n",
    "top = int(cy - h / 2)\n",
    "bottom = int(cy + h / 2)\n",
    "\n",
    "out_im = cv2.rectangle(out_im, (left, top), (right, bottom), (255, 0, 0), thickness=2)"
   ]
  },
  {
   "cell_type": "code",
   "execution_count": null,
   "id": "97b8eeb9",
   "metadata": {},
   "outputs": [],
   "source": [
    "plt.imshow(out_im)"
   ]
  },
  {
   "cell_type": "code",
   "execution_count": null,
   "id": "63fbb0d5",
   "metadata": {},
   "outputs": [],
   "source": []
  },
  {
   "cell_type": "code",
   "execution_count": null,
   "id": "fd223ed2",
   "metadata": {},
   "outputs": [],
   "source": [
    "import torch"
   ]
  },
  {
   "cell_type": "code",
   "execution_count": null,
   "id": "d1259715",
   "metadata": {},
   "outputs": [],
   "source": [
    "x = torch.rand((8732, 4))\n",
    "y = torch.tensor([0, 10, 20, 40, 80])"
   ]
  },
  {
   "cell_type": "code",
   "execution_count": null,
   "id": "0654d6c1",
   "metadata": {},
   "outputs": [],
   "source": [
    "x[y]"
   ]
  },
  {
   "cell_type": "code",
   "execution_count": null,
   "id": "ccc4c8b3",
   "metadata": {},
   "outputs": [],
   "source": [
    "x[80, :]"
   ]
  },
  {
   "cell_type": "code",
   "execution_count": null,
   "id": "31398bb5",
   "metadata": {},
   "outputs": [],
   "source": [
    "import torch"
   ]
  },
  {
   "cell_type": "code",
   "execution_count": null,
   "id": "d90cb63b",
   "metadata": {},
   "outputs": [],
   "source": [
    "device = torch.device(\"cpu\")\n",
    "x = torch.arange(0, 10, dtype=torch.int, device=device)\n",
    "y = torch.tensor([0, 2, 3, 5, 8, 9, 20], dtype=torch.int, device=device)"
   ]
  },
  {
   "cell_type": "code",
   "execution_count": null,
   "id": "40010f7a",
   "metadata": {},
   "outputs": [],
   "source": [
    "~torch.isin(x, y)"
   ]
  },
  {
   "cell_type": "code",
   "execution_count": null,
   "id": "06aed553",
   "metadata": {},
   "outputs": [],
   "source": []
  }
 ],
 "metadata": {
  "kernelspec": {
   "display_name": "ssd-3.11 (3.11.13)",
   "language": "python",
   "name": "python3"
  },
  "language_info": {
   "codemirror_mode": {
    "name": "ipython",
    "version": 3
   },
   "file_extension": ".py",
   "mimetype": "text/x-python",
   "name": "python",
   "nbconvert_exporter": "python",
   "pygments_lexer": "ipython3",
   "version": "3.11.13"
  }
 },
 "nbformat": 4,
 "nbformat_minor": 5
}
