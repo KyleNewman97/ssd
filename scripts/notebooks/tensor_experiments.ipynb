{
 "cells": [
  {
   "cell_type": "code",
   "execution_count": null,
   "id": "75aaa909",
   "metadata": {},
   "outputs": [],
   "source": [
    "import torch"
   ]
  },
  {
   "cell_type": "code",
   "execution_count": null,
   "id": "4be50779",
   "metadata": {},
   "outputs": [],
   "source": [
    "kept_scores = torch.rand((20, 8))\n",
    "kept_boxes = torch.rand((20, 4))\n",
    "print(kept_scores)"
   ]
  },
  {
   "cell_type": "code",
   "execution_count": null,
   "id": "b963fbd9",
   "metadata": {},
   "outputs": [],
   "source": [
    "print(kept_boxes)"
   ]
  },
  {
   "cell_type": "code",
   "execution_count": null,
   "id": "3958c692",
   "metadata": {},
   "outputs": [],
   "source": [
    "kept_max_scores, labels = kept_scores.max(dim=-1)\n",
    "\n",
    "print(kept_max_scores)\n",
    "print(labels)"
   ]
  },
  {
   "cell_type": "code",
   "execution_count": null,
   "id": "b668f18f",
   "metadata": {},
   "outputs": [],
   "source": [
    "top_k_scores, top_k_indices = kept_max_scores.topk(2, dim=0)\n",
    "print(top_k_scores)\n",
    "print(top_k_indices)"
   ]
  },
  {
   "cell_type": "code",
   "execution_count": null,
   "id": "dff80859",
   "metadata": {},
   "outputs": [],
   "source": [
    "torch.stack([top_k_indices] * 4, dim=1).shape"
   ]
  },
  {
   "cell_type": "code",
   "execution_count": null,
   "id": "c6387ff4",
   "metadata": {},
   "outputs": [],
   "source": [
    "top_k_boxes = kept_boxes.gather(dim=0, index=torch.stack([top_k_indices] * 4, dim=1))\n",
    "top_k_boxes"
   ]
  },
  {
   "cell_type": "code",
   "execution_count": null,
   "id": "bbba7605",
   "metadata": {},
   "outputs": [],
   "source": [
    "top_k_labels = labels.gather(dim=0, index=top_k_indices)\n",
    "top_k_labels"
   ]
  },
  {
   "cell_type": "code",
   "execution_count": null,
   "id": "2db0ffab",
   "metadata": {},
   "outputs": [],
   "source": []
  }
 ],
 "metadata": {
  "kernelspec": {
   "display_name": "ssd-3.11",
   "language": "python",
   "name": "python3"
  },
  "language_info": {
   "codemirror_mode": {
    "name": "ipython",
    "version": 3
   },
   "file_extension": ".py",
   "mimetype": "text/x-python",
   "name": "python",
   "nbconvert_exporter": "python",
   "pygments_lexer": "ipython3",
   "version": "3.11.13"
  }
 },
 "nbformat": 4,
 "nbformat_minor": 5
}
