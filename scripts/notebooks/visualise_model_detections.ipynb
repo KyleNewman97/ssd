{
 "cells": [
  {
   "cell_type": "markdown",
   "id": "8fd6d405",
   "metadata": {},
   "source": [
    "## Visualise model detections\n",
    "Use fiftyone to visualise the detections of a model."
   ]
  },
  {
   "cell_type": "code",
   "execution_count": null,
   "id": "54c88c07",
   "metadata": {},
   "outputs": [],
   "source": [
    "from pathlib import Path\n",
    "\n",
    "import torch\n",
    "import fiftyone as fo\n",
    "from torchvision.ops import box_convert\n",
    "from tqdm import tqdm\n",
    "\n",
    "from ssd import SSD\n",
    "from ssd.data import LetterboxTransform, SSDDataset"
   ]
  },
  {
   "cell_type": "markdown",
   "id": "a47e4aed",
   "metadata": {},
   "source": [
    "### Define constants"
   ]
  },
  {
   "cell_type": "code",
   "execution_count": null,
   "id": "44750710",
   "metadata": {},
   "outputs": [],
   "source": [
    "MODEL_FILE = Path(\n",
    "    \"/mnt/data/code/ssd/runs/49ffe3fa-f06f-4b7d-9677-2fa87f112544/best.pt\"\n",
    ")\n",
    "\n",
    "DATASET_PATH = Path(\"/mnt/data/datasets/object_detection/coco\")\n",
    "DATASET_NAME = \"coco\"\n",
    "\n",
    "IMAGE_WIDTH = 300\n",
    "IMAGE_HEIGHT = 300\n",
    "DTYPE = torch.float32\n",
    "DEVICE = torch.device(\"cuda:0\")"
   ]
  },
  {
   "cell_type": "markdown",
   "id": "179fc160",
   "metadata": {},
   "source": [
    "### Load the model"
   ]
  },
  {
   "cell_type": "code",
   "execution_count": null,
   "id": "2d2c2b1e",
   "metadata": {},
   "outputs": [],
   "source": [
    "model = SSD.load(MODEL_FILE)"
   ]
  },
  {
   "cell_type": "markdown",
   "id": "eb2e25de",
   "metadata": {},
   "source": [
    "### Create the dataset object"
   ]
  },
  {
   "cell_type": "code",
   "execution_count": null,
   "id": "e6c17417",
   "metadata": {},
   "outputs": [],
   "source": [
    "transform = LetterboxTransform(IMAGE_WIDTH, IMAGE_HEIGHT)\n",
    "dataset = SSDDataset(\n",
    "    DATASET_PATH / \"images/val\",\n",
    "    DATASET_PATH / \"labels/val\",\n",
    "    80,\n",
    "    transform,\n",
    "    None,\n",
    "    DEVICE,\n",
    "    DTYPE,\n",
    ")"
   ]
  },
  {
   "cell_type": "markdown",
   "id": "30c009bd",
   "metadata": {},
   "source": [
    "### Run inference and add samples to fiftyone"
   ]
  },
  {
   "cell_type": "code",
   "execution_count": null,
   "id": "c777495c",
   "metadata": {},
   "outputs": [],
   "source": [
    "fo_dataset = fo.Dataset(DATASET_NAME)\n",
    "\n",
    "for idx, (image_file, label_file) in tqdm(enumerate(dataset.samples)):\n",
    "    sample = fo.Sample(image_file)\n",
    "\n",
    "    # Add label boxes to the sample\n",
    "    objects = SSDDataset.read_label_file(label_file, DEVICE, DTYPE)\n",
    "    object_class_ids = objects.class_ids.cpu().tolist()\n",
    "    object_boxes = box_convert(objects.boxes, \"cxcywh\", \"xywh\").cpu().tolist()\n",
    "    object_detections = fo.Detections(\n",
    "        detections=[\n",
    "            fo.Detection(label=f\"{class_id}\", bounding_box=box)\n",
    "            for class_id, box in zip(object_class_ids, object_boxes, strict=True)\n",
    "        ]\n",
    "    )\n",
    "    sample[\"ground_truth\"] = object_detections\n",
    "\n",
    "    # Run inference on the frame\n",
    "    predictions = model.infer(image_file, 0.3, 200)\n",
    "    prediction_class_ids = predictions.class_ids.cpu().tolist()\n",
    "    prediction_boxes = box_convert(predictions.boxes, \"cxcywh\", \"xywh\").cpu().tolist()\n",
    "    prediction_scores = predictions.scores.cpu().tolist()\n",
    "    prediction_detections = fo.Detections(\n",
    "        detections=[\n",
    "            fo.Detection(label=f\"{class_id}\", bounding_box=box, confidence=score)\n",
    "            for class_id, box, score in zip(\n",
    "                prediction_class_ids, prediction_boxes, prediction_scores, strict=True\n",
    "            )\n",
    "        ]\n",
    "    )\n",
    "    sample[\"predictions\"] = prediction_detections\n",
    "    fo_dataset.add_sample(sample)"
   ]
  },
  {
   "cell_type": "code",
   "execution_count": null,
   "id": "7140e043",
   "metadata": {},
   "outputs": [],
   "source": [
    "session = fo.launch_app(fo_dataset)"
   ]
  },
  {
   "cell_type": "code",
   "execution_count": null,
   "id": "c5411598",
   "metadata": {},
   "outputs": [],
   "source": []
  }
 ],
 "metadata": {
  "kernelspec": {
   "display_name": "ssd-3.11 (3.11.13)",
   "language": "python",
   "name": "python3"
  },
  "language_info": {
   "codemirror_mode": {
    "name": "ipython",
    "version": 3
   },
   "file_extension": ".py",
   "mimetype": "text/x-python",
   "name": "python",
   "nbconvert_exporter": "python",
   "pygments_lexer": "ipython3",
   "version": "3.11.13"
  }
 },
 "nbformat": 4,
 "nbformat_minor": 5
}
