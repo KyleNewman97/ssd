{
 "cells": [
  {
   "cell_type": "code",
   "execution_count": null,
   "id": "3e0d16e1",
   "metadata": {},
   "outputs": [],
   "source": [
    "from pathlib import Path\n",
    "\n",
    "import cv2\n",
    "import torch\n",
    "import matplotlib.pyplot as plt\n",
    "import numpy as np\n",
    "from torchvision.transforms.functional import pil_to_tensor\n",
    "from PIL import Image\n",
    "\n",
    "from ssd import SSD\n",
    "from ssd.data import LetterboxTransform"
   ]
  },
  {
   "cell_type": "code",
   "execution_count": null,
   "id": "d0eb7c10",
   "metadata": {},
   "outputs": [],
   "source": [
    "IMAGE_WIDTH = 300\n",
    "IMAGE_HEIGHT = 300"
   ]
  },
  {
   "cell_type": "code",
   "execution_count": null,
   "id": "f45efb96",
   "metadata": {},
   "outputs": [],
   "source": [
    "device = torch.device(\"cpu\")\n",
    "model = SSD.load(Path(\"\"), device)\n",
    "\n",
    "images_dir = Path(\"\")\n",
    "image_files = list(images_dir.glob(\"*.jpg\"))\n",
    "\n",
    "transform = LetterboxTransform()"
   ]
  },
  {
   "cell_type": "code",
   "execution_count": null,
   "id": "15da0fa1",
   "metadata": {},
   "outputs": [],
   "source": [
    "file_idx = 4\n",
    "file = image_files[file_idx]\n",
    "\n",
    "# Letterbox image\n",
    "image = pil_to_tensor(Image.open(file))\n",
    "letterbox_image = transform.transform_image(image, device)\n",
    "image = letterbox_image.permute((1, 2, 0)).numpy().astype(np.uint8).copy()\n",
    "\n",
    "# Run inference on the image\n",
    "detections = model.infer(\n",
    "    file=file, confidence_threshold=0.5, num_top_k=400, nms_iou_threshold=0.3\n",
    ")\n",
    "for detection, score, label in zip(\n",
    "    detections.boxes, detections.scores, detections.class_ids\n",
    "):\n",
    "    cx, cy, w, h = detection\n",
    "    left = int((cx - w / 2) * IMAGE_WIDTH)\n",
    "    right = int((cx + w / 2) * IMAGE_WIDTH)\n",
    "    top = int((cy - h / 2) * IMAGE_HEIGHT)\n",
    "    bottom = int((cy + h / 2) * IMAGE_HEIGHT)\n",
    "\n",
    "    image = cv2.rectangle(image, (left, top), (right, bottom), (255, 0, 0), 2)\n",
    "    image = cv2.putText(\n",
    "        image,\n",
    "        f\"C={int(label.item())} S={score.item():.3f}\",\n",
    "        (left, top - 4),\n",
    "        0,\n",
    "        0.3,\n",
    "        (255, 0, 0),\n",
    "        1,\n",
    "    )\n",
    "    print(f\"Score: {score.item()} Label: {label.item()}\")\n",
    "\n",
    "plt.imshow(image)"
   ]
  },
  {
   "cell_type": "code",
   "execution_count": null,
   "id": "2fe95559",
   "metadata": {},
   "outputs": [],
   "source": []
  },
  {
   "cell_type": "code",
   "execution_count": null,
   "id": "ea9c9a3b",
   "metadata": {},
   "outputs": [],
   "source": [
    "from pathlib import Path\n",
    "\n",
    "import cv2\n",
    "import torch\n",
    "import matplotlib.pyplot as plt\n",
    "from PIL import Image\n",
    "from torch import Tensor\n",
    "from torchvision.transforms.functional import pil_to_tensor\n",
    "from torchvision.ops import box_convert\n",
    "from torchvision.tv_tensors import BoundingBoxes, Image as TVImage\n",
    "\n",
    "from ssd.data import DataAugmenter, LetterboxTransform, SSDDataset"
   ]
  },
  {
   "cell_type": "code",
   "execution_count": null,
   "id": "ec6017c6",
   "metadata": {},
   "outputs": [],
   "source": [
    "IMAGE_WIDTH = 300\n",
    "IMAGE_HEIGHT = 300\n",
    "\n",
    "DTYPE = torch.float32\n",
    "DEVICE = torch.device(\"cpu\")"
   ]
  },
  {
   "cell_type": "code",
   "execution_count": null,
   "id": "7f7587d2",
   "metadata": {},
   "outputs": [],
   "source": [
    "image_file = Path(\n",
    "    \"/mnt/data/datasets/object_detection/coco/images/train2017/000000484814.jpg\"\n",
    ")\n",
    "image = Image.open(image_file)\n",
    "image_tensor = pil_to_tensor(image)\n",
    "\n",
    "label_file = Path(\n",
    "    \"/mnt/data/datasets/object_detection/coco/labels/train2017/000000484814.txt\"\n",
    ")\n",
    "objects = SSDDataset.read_label_file(label_file, DEVICE, DTYPE)\n",
    "\n",
    "transform = LetterboxTransform(IMAGE_WIDTH, IMAGE_HEIGHT)\n",
    "image_tensor, objects = transform(image_tensor, objects, DEVICE)"
   ]
  },
  {
   "cell_type": "code",
   "execution_count": null,
   "id": "e1e8dbdd",
   "metadata": {},
   "outputs": [],
   "source": [
    "im = image_tensor.permute((1, 2, 0)).to(torch.uint8).cpu().numpy().copy()\n",
    "\n",
    "boxes = box_convert(objects.boxes, \"cxcywh\", \"xyxy\") * 300\n",
    "for idx in range(objects.boxes.shape[0]):\n",
    "    p1 = tuple(boxes[idx, :2].to(torch.int).cpu().tolist())\n",
    "    p2 = tuple(boxes[idx, 2:].to(torch.int).cpu().tolist())\n",
    "    im = cv2.rectangle(im, p1, p2, (255, 0, 0), 1)\n",
    "\n",
    "plt.imshow(im)"
   ]
  },
  {
   "cell_type": "code",
   "execution_count": null,
   "id": "9f1ce130",
   "metadata": {},
   "outputs": [],
   "source": [
    "augmenter = DataAugmenter(IMAGE_WIDTH, IMAGE_HEIGHT)\n",
    "\n",
    "boxes = objects.boxes.clone()\n",
    "boxes[:, ::2] *= IMAGE_WIDTH\n",
    "boxes[:, 1::2] *= IMAGE_HEIGHT\n",
    "tv_boxes = BoundingBoxes(\n",
    "    boxes, format=\"CXCYWH\", canvas_size=(IMAGE_HEIGHT, IMAGE_WIDTH)\n",
    ")\n",
    "\n",
    "trans_image: Tensor\n",
    "trans_boxes: BoundingBoxes\n",
    "trans_image, trans_boxes = augmenter(image_tensor, tv_boxes)"
   ]
  },
  {
   "cell_type": "code",
   "execution_count": null,
   "id": "2b1565dd",
   "metadata": {},
   "outputs": [],
   "source": [
    "trans_boxes"
   ]
  },
  {
   "cell_type": "code",
   "execution_count": null,
   "id": "5672f5bc",
   "metadata": {},
   "outputs": [],
   "source": [
    "im = trans_image.permute((1, 2, 0)).to(torch.uint8).cpu().numpy().copy()\n",
    "\n",
    "boxes = box_convert(trans_boxes, \"cxcywh\", \"xyxy\")\n",
    "boxes = boxes[(boxes[:, 2] > 2).bitwise_and(boxes[:, 3] > 2), :]\n",
    "for idx in range(boxes.shape[0]):\n",
    "    p1 = tuple(boxes[idx, :2].to(torch.int).cpu().tolist())\n",
    "    p2 = tuple(boxes[idx, 2:].to(torch.int).cpu().tolist())\n",
    "    im = cv2.rectangle(im, p1, p2, (255, 0, 0), 1)\n",
    "\n",
    "plt.imshow(im)"
   ]
  },
  {
   "cell_type": "code",
   "execution_count": null,
   "id": "05743a30",
   "metadata": {},
   "outputs": [],
   "source": [
    "boxes"
   ]
  },
  {
   "cell_type": "code",
   "execution_count": null,
   "id": "12261d71",
   "metadata": {},
   "outputs": [],
   "source": []
  }
 ],
 "metadata": {
  "kernelspec": {
   "display_name": "ssd-3.11 (3.11.13)",
   "language": "python",
   "name": "python3"
  },
  "language_info": {
   "codemirror_mode": {
    "name": "ipython",
    "version": 3
   },
   "file_extension": ".py",
   "mimetype": "text/x-python",
   "name": "python",
   "nbconvert_exporter": "python",
   "pygments_lexer": "ipython3",
   "version": "3.11.13"
  }
 },
 "nbformat": 4,
 "nbformat_minor": 5
}
