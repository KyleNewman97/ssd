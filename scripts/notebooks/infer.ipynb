{
 "cells": [
  {
   "cell_type": "code",
   "execution_count": null,
   "id": "3e0d16e1",
   "metadata": {},
   "outputs": [],
   "source": [
    "from pathlib import Path\n",
    "\n",
    "import cv2\n",
    "import torch\n",
    "import matplotlib.pyplot as plt\n",
    "import numpy as np\n",
    "from torchvision.transforms.functional import pil_to_tensor\n",
    "from PIL import Image\n",
    "\n",
    "from ssd import SSD\n",
    "from ssd.data import LetterboxTransform"
   ]
  },
  {
   "cell_type": "code",
   "execution_count": null,
   "id": "d0eb7c10",
   "metadata": {},
   "outputs": [],
   "source": [
    "IMAGE_WIDTH = 300\n",
    "IMAGE_HEIGHT = 300"
   ]
  },
  {
   "cell_type": "code",
   "execution_count": null,
   "id": "f45efb96",
   "metadata": {},
   "outputs": [],
   "source": [
    "device = torch.device(\"cpu\")\n",
    "model = SSD.load(\n",
    "    Path(\"/mnt/data/code/ssd/models/23ac32e7-5881-4f99-87a5-3b556464f721/best.pt\"),\n",
    "    device,\n",
    ")\n",
    "\n",
    "images_dir = Path(\"/mnt/data/datasets/object_detection/coco/images/val2017\")\n",
    "image_files = list(images_dir.glob(\"*.jpg\"))\n",
    "\n",
    "transform = LetterboxTransform()"
   ]
  },
  {
   "cell_type": "code",
   "execution_count": null,
   "id": "15da0fa1",
   "metadata": {},
   "outputs": [],
   "source": [
    "file_idx = 4\n",
    "file = image_files[file_idx]\n",
    "\n",
    "# Letterbox image\n",
    "image = pil_to_tensor(Image.open(file))\n",
    "letterbox_image = transform.transform_image(image, device)\n",
    "image = letterbox_image.permute((1, 2, 0)).numpy().astype(np.uint8).copy()\n",
    "\n",
    "# Run inference on the image\n",
    "detections = model.infer(file=file, confidence_threshold=0.5, num_top_k=400, nms_iou_threshold=0.3)\n",
    "for detection, score, label in zip(detections.boxes, detections.scores, detections.class_ids):\n",
    "    cx, cy, w, h = detection\n",
    "    left = int((cx - w/2) * IMAGE_WIDTH)\n",
    "    right = int((cx + w/2) * IMAGE_WIDTH)\n",
    "    top = int((cy - h/2) * IMAGE_HEIGHT)\n",
    "    bottom = int((cy + h/2) * IMAGE_HEIGHT)\n",
    "\n",
    "    image = cv2.rectangle(image, (left, top), (right, bottom), (255, 0, 0), 2)\n",
    "    image = cv2.putText(image, f\"C={int(label.item())} S={score.item():.3f}\", (left, top - 4), 0, 0.3, (255, 0, 0), 1)\n",
    "    print(f\"Score: {score.item()} Label: {label.item()}\")\n",
    "\n",
    "plt.imshow(image)"
   ]
  },
  {
   "cell_type": "code",
   "execution_count": null,
   "id": "2fe95559",
   "metadata": {},
   "outputs": [],
   "source": []
  },
  {
   "cell_type": "code",
   "execution_count": null,
   "id": "ea9c9a3b",
   "metadata": {},
   "outputs": [],
   "source": []
  }
 ],
 "metadata": {
  "kernelspec": {
   "display_name": "ssd-3.11",
   "language": "python",
   "name": "python3"
  },
  "language_info": {
   "codemirror_mode": {
    "name": "ipython",
    "version": 3
   },
   "file_extension": ".py",
   "mimetype": "text/x-python",
   "name": "python",
   "nbconvert_exporter": "python",
   "pygments_lexer": "ipython3",
   "version": "3.11.13"
  }
 },
 "nbformat": 4,
 "nbformat_minor": 5
}
