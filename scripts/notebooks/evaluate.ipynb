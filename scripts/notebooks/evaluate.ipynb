{
 "cells": [
  {
   "cell_type": "code",
   "execution_count": null,
   "id": "f8ab403b",
   "metadata": {},
   "outputs": [],
   "source": [
    "from functools import partial\n",
    "from pathlib import Path\n",
    "\n",
    "import torch\n",
    "import matplotlib.pyplot as plt\n",
    "from pydantic import BaseModel, Field\n",
    "from torch import Tensor\n",
    "from torch.utils.data import DataLoader\n",
    "from torchmetrics.detection.mean_ap import MeanAveragePrecision\n",
    "from tqdm import tqdm\n",
    "\n",
    "from ssd import SSD\n",
    "from ssd.data import LetterboxTransform, SSDDataset\n",
    "from ssd.structs import FrameLabels\n",
    "from ssd.utils import TrainUtils, Metrics"
   ]
  },
  {
   "cell_type": "code",
   "execution_count": null,
   "id": "e711b65a",
   "metadata": {},
   "outputs": [],
   "source": [
    "class EvaluateConfig(BaseModel):\n",
    "    images_dir: Path\n",
    "    labels_dir: Path\n",
    "    min_confidence_threshold: float = Field(default=0.1)\n",
    "    num_top_k: int = Field(default=100)\n",
    "    nms_iou_threshold: float = Field(default=0.2)"
   ]
  },
  {
   "cell_type": "markdown",
   "id": "ad8c635c",
   "metadata": {},
   "source": [
    "### Define constants"
   ]
  },
  {
   "cell_type": "code",
   "execution_count": null,
   "id": "dbbf6787",
   "metadata": {},
   "outputs": [],
   "source": [
    "DEVICE = torch.device(\"cuda:0\")\n",
    "CONFIG = EvaluateConfig(\n",
    "    images_dir=Path(\"/mnt/data/datasets/object_detection/coco/images/val2017\"),\n",
    "    labels_dir=Path(\"/mnt/data/datasets/object_detection/coco/labels/val2017\"),\n",
    "    min_confidence_threshold=0.1,\n",
    "    num_top_k=100,\n",
    "    nms_iou_threshold=0.2\n",
    ")\n",
    "\n",
    "MODEL_FILE = Path(\"/mnt/data/code/ssd/models/91f18512-9b06-4c9a-9d2c-8330ed7458c3/best.pt\")\n",
    "IMAGE_WIDTH = 300\n",
    "IMAGE_HEIGHT = 300\n",
    "DTYPE = torch.float32"
   ]
  },
  {
   "cell_type": "markdown",
   "id": "99c56baa",
   "metadata": {},
   "source": [
    "### Evaluate the model"
   ]
  },
  {
   "cell_type": "code",
   "execution_count": null,
   "id": "4560c761",
   "metadata": {},
   "outputs": [],
   "source": [
    "# Load the model in\n",
    "model = SSD.load(MODEL_FILE, DEVICE)"
   ]
  },
  {
   "cell_type": "code",
   "execution_count": null,
   "id": "a035a9bb",
   "metadata": {},
   "outputs": [],
   "source": [
    "transform = LetterboxTransform(IMAGE_WIDTH, IMAGE_HEIGHT, DTYPE)\n",
    "collate_func = partial(TrainUtils.batch_collate_func, device=DEVICE)\n",
    "\n",
    "dataset = SSDDataset(CONFIG.images_dir, CONFIG.labels_dir, model.num_classes, transform, DEVICE, DTYPE)\n",
    "data_loader = DataLoader(dataset, 8, shuffle=False, collate_fn=collate_func)"
   ]
  },
  {
   "cell_type": "code",
   "execution_count": null,
   "id": "6ff1e6c7",
   "metadata": {},
   "outputs": [],
   "source": [
    "model.eval()\n",
    "\n",
    "images: Tensor\n",
    "frame_labels: list[FrameLabels]\n",
    "metrics = Metrics()\n",
    "image_detections: list[dict[str, Tensor]] = []\n",
    "image_labels: list[dict[str, Tensor]] = []\n",
    "for images, frame_labels in tqdm(data_loader):\n",
    "    with torch.no_grad():\n",
    "        head_outputs, anchors = model.forward(images)\n",
    "        frame_detections = model._post_process_detections(head_outputs, anchors, CONFIG.min_confidence_threshold, CONFIG.num_top_k, CONFIG.nms_iou_threshold)\n",
    "\n",
    "        metrics.update(frame_detections, frame_labels)\n",
    "\n",
    "        image_detections += [d.model_dump() for d in frame_detections]\n",
    "        image_labels += [{\"boxes\": l.boxes, \"labels\": l.class_ids} for l in frame_labels]"
   ]
  },
  {
   "cell_type": "code",
   "execution_count": null,
   "id": "b79fd1d5",
   "metadata": {},
   "outputs": [],
   "source": [
    "pr_curve = metrics.generate_precision_recall_curve(model.num_classes, 0.4)"
   ]
  },
  {
   "cell_type": "code",
   "execution_count": null,
   "id": "a864e3b7",
   "metadata": {},
   "outputs": [],
   "source": [
    "confidences = pr_curve.confidences\n",
    "precisions = torch.stack(pr_curve.precisions, dim=0)\n",
    "recalls = torch.stack(pr_curve.recalls, dim=0)"
   ]
  },
  {
   "cell_type": "code",
   "execution_count": null,
   "id": "dfed1fae",
   "metadata": {},
   "outputs": [],
   "source": [
    "plt.figure(1)\n",
    "# for class_id in range(precisions.shape[1]):\n",
    "for class_id in range(10):\n",
    "    plt.plot(confidences, precisions[:, class_id].to(\"cpu\").numpy(), label=f\"Class ID: {class_id}\")\n",
    "plt.title(\"Precision-Confidence Curve\")\n",
    "plt.xlabel(\"Confidence\")\n",
    "plt.ylabel(\"Precision\")\n",
    "plt.xlim((0, 1))\n",
    "plt.ylim((0, 1))\n",
    "plt.legend()\n",
    "plt.grid()"
   ]
  },
  {
   "cell_type": "code",
   "execution_count": null,
   "id": "56d351c6",
   "metadata": {},
   "outputs": [],
   "source": [
    "plt.figure(1)\n",
    "# for class_id in range(recalls.shape[1]):\n",
    "for class_id in range(10):\n",
    "    plt.plot(confidences, recalls[:, class_id].to(\"cpu\").numpy(), label=f\"Class ID: {class_id}\")\n",
    "plt.title(\"Recall-Confidence Curve\")\n",
    "plt.xlabel(\"Confidence\")\n",
    "plt.ylabel(\"Recall\")\n",
    "plt.xlim((0, 1))\n",
    "plt.ylim((0, 1))\n",
    "plt.legend()\n",
    "plt.grid()"
   ]
  },
  {
   "cell_type": "code",
   "execution_count": null,
   "id": "5d01369a",
   "metadata": {},
   "outputs": [],
   "source": [
    "plt.figure(1)\n",
    "# for class_id in range(recalls.shape[1]):\n",
    "for class_id in range(10):\n",
    "    plt.plot(recalls[:, class_id].to(\"cpu\").numpy(), precisions[:, class_id].to(\"cpu\").numpy(), label=f\"Class ID: {class_id}\")\n",
    "plt.title(\"Precision-Recall Curve\")\n",
    "plt.xlabel(\"Recall\")\n",
    "plt.ylabel(\"Precision\")\n",
    "plt.xlim((0, 1))\n",
    "plt.ylim((0, 1))\n",
    "plt.legend()\n",
    "plt.grid()"
   ]
  },
  {
   "cell_type": "code",
   "execution_count": null,
   "id": "e0d6193b",
   "metadata": {},
   "outputs": [],
   "source": [
    "if len(pr_curve.precisions) == 0 or pr_curve.precisions[0].shape == (0,):\n",
    "    raise ValueError(\"No precisions found.\")\n",
    "\n",
    "if len(pr_curve.precisions) != len(pr_curve.recalls):\n",
    "    msg = (\n",
    "        f\"Precision-recall shape mismatch: {len(pr_curve.precisions)} != \"\n",
    "        f\"{len(pr_curve.recalls)}.\"\n",
    "    )\n",
    "    raise ValueError(msg)\n",
    "\n",
    "dtype = pr_curve.precisions[0].dtype\n",
    "device = pr_curve.precisions[0].device\n",
    "num_classes = pr_curve.precisions[0].shape[0]\n",
    "\n",
    "APs = torch.zeros((num_classes,), dtype=dtype, device=device)\n",
    "\n",
    "# Swap the recalls and precisions so they occur from left to right on the plot\n",
    "recalls_ltr = pr_curve.recalls[::-1]\n",
    "precisions_ltr = pr_curve.precisions[::-1]\n",
    "\n",
    "for idx in range(len(recalls_ltr)):\n",
    "    if idx == 0:\n",
    "        r0 = torch.zeros((num_classes,), dtype=dtype, device=device)\n",
    "        p0 = torch.ones((num_classes,), dtype=dtype, device=device)\n",
    "    else:\n",
    "        r0 = recalls_ltr[idx - 1]\n",
    "        p0 = precisions_ltr[idx - 1]\n",
    "    r1 = recalls_ltr[idx]\n",
    "    p1 = precisions_ltr[idx]\n",
    "\n",
    "\n",
    "    # Calculate the mean precision betweeen r0 and r1\n",
    "    delta_r = r1 - r0\n",
    "    p_mean = p0 + (p1 - p0) / 2\n",
    "\n",
    "    # Update the area under the curve\n",
    "    APs += p_mean * delta_r\n",
    "\n",
    "APs"
   ]
  },
  {
   "cell_type": "code",
   "execution_count": null,
   "id": "ad953902",
   "metadata": {},
   "outputs": [],
   "source": [
    "mAP = MeanAveragePrecision(box_format=\"cxcywh\")\n",
    "mAP.update(image_detections, image_labels)\n",
    "results = mAP.compute()\n",
    "\n",
    "results"
   ]
  },
  {
   "cell_type": "code",
   "execution_count": null,
   "id": "81c1cad7",
   "metadata": {},
   "outputs": [],
   "source": [
    "type(results)"
   ]
  },
  {
   "cell_type": "code",
   "execution_count": null,
   "id": "bb5ff118",
   "metadata": {},
   "outputs": [],
   "source": [
    "image_detections[0][\"boxes\"].shape"
   ]
  },
  {
   "cell_type": "code",
   "execution_count": null,
   "id": "3d9610ce",
   "metadata": {},
   "outputs": [],
   "source": [
    "image_labels[0][\"boxes\"].shape"
   ]
  },
  {
   "cell_type": "code",
   "execution_count": null,
   "id": "257c1c57",
   "metadata": {},
   "outputs": [],
   "source": [
    "image_labels[0][\"labels\"]"
   ]
  },
  {
   "cell_type": "code",
   "execution_count": null,
   "id": "8b475a18",
   "metadata": {},
   "outputs": [],
   "source": [
    "image_detections[0][\"labels\"]"
   ]
  },
  {
   "cell_type": "code",
   "execution_count": null,
   "id": "c3647175",
   "metadata": {},
   "outputs": [],
   "source": []
  }
 ],
 "metadata": {
  "kernelspec": {
   "display_name": "ssd-3.11",
   "language": "python",
   "name": "python3"
  },
  "language_info": {
   "codemirror_mode": {
    "name": "ipython",
    "version": 3
   },
   "file_extension": ".py",
   "mimetype": "text/x-python",
   "name": "python",
   "nbconvert_exporter": "python",
   "pygments_lexer": "ipython3",
   "version": "3.11.13"
  }
 },
 "nbformat": 4,
 "nbformat_minor": 5
}
