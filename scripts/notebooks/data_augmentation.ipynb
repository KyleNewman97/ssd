{
 "cells": [
  {
   "cell_type": "markdown",
   "id": "8571d1df",
   "metadata": {},
   "source": [
    "## Data augmentation\n",
    "A notebook to explore augmentations to be applied to images during training."
   ]
  },
  {
   "cell_type": "code",
   "execution_count": null,
   "id": "b1ec13fa",
   "metadata": {},
   "outputs": [],
   "source": [
    "from pathlib import Path\n",
    "\n",
    "import cv2\n",
    "import torch\n",
    "import matplotlib.pyplot as plt\n",
    "from PIL import Image\n",
    "from torch import Tensor\n",
    "from torchvision.transforms.functional import pil_to_tensor\n",
    "from torchvision.ops import box_convert\n",
    "from torchvision.tv_tensors import BoundingBoxes\n",
    "\n",
    "from ssd.data import DataAugmenter, LetterboxTransform, SSDDataset\n",
    "from ssd.structs import FrameLabels"
   ]
  },
  {
   "cell_type": "markdown",
   "id": "a77fea22",
   "metadata": {},
   "source": [
    "### Define constants"
   ]
  },
  {
   "cell_type": "code",
   "execution_count": null,
   "id": "b8bbd325",
   "metadata": {},
   "outputs": [],
   "source": [
    "IMAGE_WIDTH = 300\n",
    "IMAGE_HEIGHT = 300\n",
    "\n",
    "DTYPE = torch.float32\n",
    "DEVICE = torch.device(\"cpu\")\n",
    "\n",
    "IMAGE_FILE = Path(\"/mnt/data/datasets/object_detection/coco/images/train2017/000000484814.jpg\")\n",
    "LABEL_FILE = Path(\"/mnt/data/datasets/object_detection/coco/labels/train2017/000000484814.txt\")"
   ]
  },
  {
   "cell_type": "markdown",
   "id": "f96db4ee",
   "metadata": {},
   "source": [
    "### Show the label on the letterboxed image"
   ]
  },
  {
   "cell_type": "code",
   "execution_count": null,
   "id": "b674c02c",
   "metadata": {},
   "outputs": [],
   "source": [
    "# Load in the image\n",
    "image = Image.open(IMAGE_FILE)\n",
    "image_tensor = pil_to_tensor(image)\n",
    "\n",
    "# Load in the label\n",
    "objects = SSDDataset.read_label_file(LABEL_FILE, DEVICE, DTYPE)\n",
    "\n",
    "# Apply the letterbox transform\n",
    "transform = LetterboxTransform(IMAGE_WIDTH, IMAGE_HEIGHT)\n",
    "image_tensor, objects = transform(image_tensor, objects, DEVICE)"
   ]
  },
  {
   "cell_type": "code",
   "execution_count": null,
   "id": "2db4a08c",
   "metadata": {},
   "outputs": [],
   "source": [
    "# Display the labels\n",
    "im = image_tensor.permute((1, 2, 0)).to(torch.uint8).cpu().numpy().copy()\n",
    "boxes = box_convert(objects.boxes, \"cxcywh\", \"xyxy\") * 300\n",
    "for idx in range(objects.boxes.shape[0]):\n",
    "    p1 = tuple(boxes[idx, :2].to(torch.int).cpu().tolist())\n",
    "    p2 = tuple(boxes[idx, 2:].to(torch.int).cpu().tolist())\n",
    "    im = cv2.rectangle(im, p1, p2, (255, 0, 0), 1)\n",
    "\n",
    "plt.imshow(im)"
   ]
  },
  {
   "cell_type": "markdown",
   "id": "b85fe18d",
   "metadata": {},
   "source": [
    "### Augment the image"
   ]
  },
  {
   "cell_type": "code",
   "execution_count": null,
   "id": "e121503a",
   "metadata": {},
   "outputs": [],
   "source": [
    "augmenter = DataAugmenter(IMAGE_WIDTH, IMAGE_HEIGHT)\n",
    "\n",
    "trans_image: Tensor\n",
    "trans_objects: FrameLabels\n",
    "trans_image, trans_objects = augmenter(image_tensor / 255, objects)\n",
    "trans_image = trans_image * 255"
   ]
  },
  {
   "cell_type": "code",
   "execution_count": null,
   "id": "4f8400d5",
   "metadata": {},
   "outputs": [],
   "source": [
    "im = trans_image.permute((1, 2, 0)).to(torch.uint8).cpu().numpy().copy()\n",
    "boxes = box_convert(trans_objects.boxes, \"cxcywh\", \"xyxy\")\n",
    "\n",
    "for idx in range(boxes.shape[0]):\n",
    "    p1 = tuple(boxes[idx, :2].to(torch.int).cpu().tolist())\n",
    "    p2 = tuple(boxes[idx, 2:].to(torch.int).cpu().tolist())\n",
    "    im = cv2.rectangle(im, p1, p2, (255, 0, 0), 1)\n",
    "\n",
    "plt.imshow(im)"
   ]
  },
  {
   "cell_type": "code",
   "execution_count": null,
   "id": "35209693",
   "metadata": {},
   "outputs": [],
   "source": []
  },
  {
   "cell_type": "code",
   "execution_count": null,
   "id": "a581953a",
   "metadata": {},
   "outputs": [],
   "source": []
  }
 ],
 "metadata": {
  "kernelspec": {
   "display_name": "ssd-3.11",
   "language": "python",
   "name": "python3"
  },
  "language_info": {
   "codemirror_mode": {
    "name": "ipython",
    "version": 3
   },
   "file_extension": ".py",
   "mimetype": "text/x-python",
   "name": "python",
   "nbconvert_exporter": "python",
   "pygments_lexer": "ipython3",
   "version": "3.11.13"
  }
 },
 "nbformat": 4,
 "nbformat_minor": 5
}
