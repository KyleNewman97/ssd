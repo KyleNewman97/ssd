{
 "cells": [
  {
   "cell_type": "markdown",
   "id": "edc74695",
   "metadata": {},
   "source": [
    "## Investigate anchors IoU\n",
    "During training it was found that the accuracy of the model was highlt dependent on the\n",
    "number of anchor boxes associated with each ground truth box.\n",
    "\n",
    "When a single anchor box was associated with the ground truth box the model would simply\n",
    "return no classes - only a few anchor boxes out of the 8,732 anchor boxes would be\n",
    "associated with a class. Therefore, the network learnt the easy solution to the problem;\n",
    "to simply assume all boxes are associated with no class.\n",
    "\n",
    "To solve this I implemented an algorithm that associates all anchor boxes with an IoU\n",
    "above a certain threshold with a ground truth box to be of that boxes class.\n",
    "\n",
    "However, I believe that if too many anchor boxes are associated with the ground truth\n",
    "box then this may have negative consequences on bounding box regression. That is, even\n",
    "far away boxes have to be regressed to the ground truth box.\n",
    "\n",
    "As a result, this notebook aims to investigate what IoU threshold should be used."
   ]
  },
  {
   "cell_type": "code",
   "execution_count": null,
   "id": "99f59fa9",
   "metadata": {},
   "outputs": [],
   "source": [
    "# We want to\n",
    "# 1. Get all labels\n",
    "# 2. Get all anchors\n",
    "# 3. Find the average number of anchors associated with each GT box at each IoU threshold\n",
    "# 4. [Optional] investigate difficultly of transforming boxes to GT"
   ]
  },
  {
   "cell_type": "code",
   "execution_count": null,
   "id": "776db6ff",
   "metadata": {},
   "outputs": [],
   "source": [
    "from pathlib import Path\n",
    "\n",
    "import torch\n",
    "import matplotlib.pyplot as plt\n",
    "import numpy as np\n",
    "from tqdm import tqdm\n",
    "\n",
    "from ssd.anchor_box_generator import AnchorBoxGenerator\n",
    "from ssd.data import LetterboxTransform, SSDDataset\n",
    "from ssd.utils import BoxUtils"
   ]
  },
  {
   "cell_type": "code",
   "execution_count": null,
   "id": "dadfbe9d",
   "metadata": {},
   "outputs": [],
   "source": [
    "LABELS_DIR = Path(\"\")\n",
    "LABEL_FILES = list(LABELS_DIR.glob(\"*.txt\"))\n",
    "\n",
    "DEVICE = torch.device(\"cpu\")\n",
    "DTYPE = torch.float32\n",
    "\n",
    "IMAGE_WIDTH = 300\n",
    "IMAGE_HEIGHT = 300\n",
    "\n",
    "SAMPLE_SIZE = min(10_000, len(LABEL_FILES))"
   ]
  },
  {
   "cell_type": "markdown",
   "id": "63c3cd9d",
   "metadata": {},
   "source": [
    "### Analyse the matching of GT to anchor boxes"
   ]
  },
  {
   "cell_type": "code",
   "execution_count": null,
   "id": "b4eec991",
   "metadata": {},
   "outputs": [],
   "source": [
    "transform = LetterboxTransform(IMAGE_WIDTH, IMAGE_HEIGHT, DTYPE)\n",
    "\n",
    "anchor_generator = AnchorBoxGenerator(DEVICE, DTYPE)\n",
    "anchors = anchor_generator.forward(\n",
    "    1, [(38, 38), (19, 19), (10, 10), (5, 5), (3, 3), (1, 1)]\n",
    ")\n",
    "all_boxes: torch.Tensor = None  # type: ignore\n",
    "num_objects = 0\n",
    "missed_objects = 0\n",
    "classed_anchors = 0\n",
    "background_anchors = 0\n",
    "empty_anchors = 0\n",
    "num_anchors_per_gt: list[int] = []\n",
    "for label_file in tqdm(LABEL_FILES[:SAMPLE_SIZE]):\n",
    "    objects = SSDDataset.read_label_file(label_file, DEVICE, DTYPE)\n",
    "    letterbox_objects = transform.transform_objects(objects, IMAGE_WIDTH, IMAGE_HEIGHT)\n",
    "\n",
    "    matching_anchor_idxs, matching_gt_idxs = BoxUtils.find_anchor_gt_pairs(\n",
    "        anchors, [letterbox_objects.boxes], 0.3\n",
    "    )\n",
    "    background_anchor_idxs = BoxUtils.find_anchors_meeting_iou_condition(\n",
    "        anchors, [letterbox_objects.boxes], 0.05, False\n",
    "    )\n",
    "    anchor_idxs = matching_anchor_idxs[0]\n",
    "    gt_idxs = matching_gt_idxs[0]\n",
    "\n",
    "    unique_gts = set(gt_idxs.unique().cpu().tolist())\n",
    "    expected_gts = set(range(objects.boxes.shape[0]))\n",
    "    missed_gts = expected_gts.difference(unique_gts)\n",
    "    anchors_per_gt = gt_idxs.bincount(minlength=objects.boxes.shape[0]).cpu().tolist()\n",
    "\n",
    "    if all_boxes is None:\n",
    "        all_boxes = letterbox_objects.boxes\n",
    "    else:\n",
    "        all_boxes = torch.cat((all_boxes, letterbox_objects.boxes), dim=0)\n",
    "\n",
    "    # Log out when we have not associated a GT box with an anchor\n",
    "    # if len(missed_gts) != 0:\n",
    "    #     print(label_file)\n",
    "    #     print(\"Num ground truths:\", objects.boxes.shape[0])\n",
    "    #     print(\"Matched ground truths:\", len(unique_gts))\n",
    "    #     print(\"Missed GT:\", expected_gts.difference(unique_gts))\n",
    "    #     print(\"Anchors per GT:\", anchors_per_gt)\n",
    "\n",
    "    num_anchors_per_gt += anchors_per_gt\n",
    "    num_objects += objects.boxes.shape[0]\n",
    "    missed_objects += len(missed_gts)\n",
    "\n",
    "    classed_anchors += gt_idxs.shape[0]\n",
    "    background_anchors += background_anchor_idxs[0].shape[0]\n",
    "    empty_anchors += 8732 - (gt_idxs.shape[0] + background_anchor_idxs[0].shape[0])"
   ]
  },
  {
   "cell_type": "code",
   "execution_count": null,
   "id": "5f3288f9",
   "metadata": {},
   "outputs": [],
   "source": [
    "total_anchors = classed_anchors + background_anchors + empty_anchors\n",
    "print(\"Classed anchors:\", classed_anchors)\n",
    "print(\"Background anchors:\", background_anchors)\n",
    "print(\"Empty anchors:\", empty_anchors)\n",
    "print(\"Total anchors:\", total_anchors)\n",
    "print(\"Anchors f:\", total_anchors / (SAMPLE_SIZE * 8732))\n",
    "\n",
    "print(\"Classed fraction:\", classed_anchors / total_anchors)\n",
    "print(\"Background fraction:\", background_anchors / total_anchors)\n",
    "print(\"Empty fraction:\", empty_anchors / total_anchors)"
   ]
  },
  {
   "cell_type": "markdown",
   "id": "7801bed2",
   "metadata": {},
   "source": [
    "### Investigate GT misses\n",
    "It is possible for GT boxes to not get associated with any anchor box. This is because other GT boxes have already been associated with this box.\n",
    "\n",
    "This occurs for two reasons:\n",
    "1. The anchor boxes are not representative of the shape/size of the GT boxes - resulting in lots of poor matches to the same anchor boxes.\n",
    "2. GT boxes having high IoU between themselves."
   ]
  },
  {
   "cell_type": "code",
   "execution_count": null,
   "id": "0633bde4",
   "metadata": {},
   "outputs": [],
   "source": [
    "print(\"Total number of objects:\", num_objects)\n",
    "print(\"Number of missed GT boxes:\", missed_objects)"
   ]
  },
  {
   "cell_type": "markdown",
   "id": "429be005",
   "metadata": {},
   "source": [
    "### Investigate number of anchors per GT\n",
    "We want to know the distribution of the number of anchor boxes associated with each GT box.\n",
    "\n",
    "By having vastly different anchors per GT we will unfairly biases some objects in the image."
   ]
  },
  {
   "cell_type": "code",
   "execution_count": null,
   "id": "6967688d",
   "metadata": {},
   "outputs": [],
   "source": [
    "plt.figure()\n",
    "plt.hist(num_anchors_per_gt, max(num_anchors_per_gt))\n",
    "plt.grid()\n",
    "plt.xlim((0, max(num_anchors_per_gt)))\n",
    "plt.xlabel(\"Anchors per GT\")\n",
    "plt.ylabel(\"Occurrences\")\n",
    "plt.title(\"Distribution of anchors per GT box\")"
   ]
  },
  {
   "cell_type": "code",
   "execution_count": null,
   "id": "8f4b2198",
   "metadata": {},
   "outputs": [],
   "source": [
    "anchors_per_gt = np.array(num_anchors_per_gt)\n",
    "\n",
    "print(f\"Total number of GT boxes: {num_objects}\")\n",
    "print(f\"Median: {np.median(anchors_per_gt):.2f}\")\n",
    "print(f\"Mean: {anchors_per_gt.mean():.2f}\")\n",
    "print(f\"STD: {anchors_per_gt.std():.2f}\")\n",
    "print(f\"Minimum: {anchors_per_gt.min()}\")\n",
    "print(f\"Maximum: {anchors_per_gt.max()}\")"
   ]
  },
  {
   "cell_type": "markdown",
   "id": "9cbb0831",
   "metadata": {},
   "source": [
    "### Investigate GT shape"
   ]
  },
  {
   "cell_type": "code",
   "execution_count": null,
   "id": "09876980",
   "metadata": {},
   "outputs": [],
   "source": [
    "cxs = all_boxes[:, 0].cpu().numpy()\n",
    "\n",
    "plt.figure()\n",
    "plt.hist(cxs, bins=60)\n",
    "plt.grid()\n",
    "plt.xlabel(\"cx\")\n",
    "plt.xlim((0, 1))\n",
    "plt.ylabel(\"Occurrences\")\n",
    "plt.title(\"Distribution of cx positions\")"
   ]
  },
  {
   "cell_type": "code",
   "execution_count": null,
   "id": "e7772181",
   "metadata": {},
   "outputs": [],
   "source": [
    "cys = all_boxes[:, 1].cpu().numpy()\n",
    "\n",
    "plt.figure()\n",
    "plt.hist(cys, bins=60)\n",
    "plt.grid()\n",
    "plt.xlabel(\"cy\")\n",
    "plt.xlim((0, 1))\n",
    "plt.ylabel(\"Occurrences\")\n",
    "plt.title(\"Distribution of cy positions\")"
   ]
  },
  {
   "cell_type": "code",
   "execution_count": null,
   "id": "772b7b65",
   "metadata": {},
   "outputs": [],
   "source": [
    "widths = all_boxes[:, 2].cpu().numpy()\n",
    "anchor_widths = anchors[0, :, 2].cpu().numpy()\n",
    "\n",
    "plt.figure()\n",
    "plt.hist(widths, bins=60, label=\"Object widths\")\n",
    "plt.hist(anchor_widths, bins=60, label=\"Anchor widths\")\n",
    "plt.grid()\n",
    "plt.xlabel(\"Width\")\n",
    "plt.xlim(left=0)\n",
    "plt.ylabel(\"Occurrences\")\n",
    "plt.title(\"Distribution of widths\")\n",
    "plt.legend()"
   ]
  },
  {
   "cell_type": "code",
   "execution_count": null,
   "id": "d8dc0767",
   "metadata": {},
   "outputs": [],
   "source": [
    "heights = all_boxes[:, 3].cpu().numpy()\n",
    "anchor_heights = anchors[0, :, 3].cpu().numpy()\n",
    "\n",
    "plt.figure()\n",
    "plt.hist(heights, bins=60, label=\"Object heights\")\n",
    "plt.hist(anchor_heights, bins=60, label=\"Anchor heights\")\n",
    "plt.grid()\n",
    "plt.xlabel(\"Height\")\n",
    "plt.xlim(left=0)\n",
    "plt.ylabel(\"Occurrences\")\n",
    "plt.title(\"Distribution of heights\")\n",
    "plt.legend()"
   ]
  },
  {
   "cell_type": "code",
   "execution_count": null,
   "id": "cddb68a4",
   "metadata": {},
   "outputs": [],
   "source": []
  }
 ],
 "metadata": {
  "kernelspec": {
   "display_name": "ssd-3.11 (3.11.13)",
   "language": "python",
   "name": "python3"
  },
  "language_info": {
   "codemirror_mode": {
    "name": "ipython",
    "version": 3
   },
   "file_extension": ".py",
   "mimetype": "text/x-python",
   "name": "python",
   "nbconvert_exporter": "python",
   "pygments_lexer": "ipython3",
   "version": "3.11.13"
  }
 },
 "nbformat": 4,
 "nbformat_minor": 5
}
