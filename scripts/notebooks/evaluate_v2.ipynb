{
 "cells": [
  {
   "cell_type": "code",
   "execution_count": null,
   "id": "f8ab403b",
   "metadata": {},
   "outputs": [],
   "source": [
    "from functools import partial\n",
    "from pathlib import Path\n",
    "\n",
    "import torch\n",
    "import matplotlib.pyplot as plt\n",
    "from pydantic import BaseModel, Field\n",
    "from torch import Tensor\n",
    "from torch.utils.data import DataLoader\n",
    "from torchmetrics.detection.mean_ap import MeanAveragePrecision\n",
    "from tqdm import tqdm\n",
    "\n",
    "from ssd import SSD\n",
    "from ssd.data import LetterboxTransform, SSDDataset\n",
    "from ssd.structs import FrameLabels\n",
    "from ssd.utils import TrainUtils\n",
    "from ssd.utils.metrics_calculator import MetricsCalculator"
   ]
  },
  {
   "cell_type": "code",
   "execution_count": null,
   "id": "e711b65a",
   "metadata": {},
   "outputs": [],
   "source": [
    "class EvaluateConfig(BaseModel):\n",
    "    images_dir: Path\n",
    "    labels_dir: Path\n",
    "    min_confidence_threshold: float = Field(default=0.1)\n",
    "    num_top_k: int = Field(default=100)\n",
    "    nms_iou_threshold: float = Field(default=0.2)"
   ]
  },
  {
   "cell_type": "markdown",
   "id": "ad8c635c",
   "metadata": {},
   "source": [
    "### Define constants"
   ]
  },
  {
   "cell_type": "code",
   "execution_count": null,
   "id": "dbbf6787",
   "metadata": {},
   "outputs": [],
   "source": [
    "DEVICE = torch.device(\"cuda:0\")\n",
    "CONFIG = EvaluateConfig(\n",
    "    images_dir=Path(\"/mnt/data/datasets/object_detection/coco/images/val2017\"),\n",
    "    labels_dir=Path(\"/mnt/data/datasets/object_detection/coco/labels/val2017\"),\n",
    "    min_confidence_threshold=0.1,\n",
    "    num_top_k=100,\n",
    "    nms_iou_threshold=0.2\n",
    ")\n",
    "\n",
    "MODEL_FILE = Path(\"/mnt/data/code/ssd/models/91f18512-9b06-4c9a-9d2c-8330ed7458c3/best.pt\")\n",
    "IMAGE_WIDTH = 300\n",
    "IMAGE_HEIGHT = 300\n",
    "DTYPE = torch.float32"
   ]
  },
  {
   "cell_type": "markdown",
   "id": "99c56baa",
   "metadata": {},
   "source": [
    "### Evaluate the model"
   ]
  },
  {
   "cell_type": "code",
   "execution_count": null,
   "id": "4560c761",
   "metadata": {},
   "outputs": [],
   "source": [
    "# Load the model in\n",
    "model = SSD.load(MODEL_FILE, DEVICE)"
   ]
  },
  {
   "cell_type": "code",
   "execution_count": null,
   "id": "a035a9bb",
   "metadata": {},
   "outputs": [],
   "source": [
    "transform = LetterboxTransform(IMAGE_WIDTH, IMAGE_HEIGHT, DTYPE)\n",
    "collate_func = partial(TrainUtils.batch_collate_func, device=DEVICE)\n",
    "\n",
    "dataset = SSDDataset(CONFIG.images_dir, CONFIG.labels_dir, model.num_classes, transform, DEVICE, DTYPE)\n",
    "data_loader = DataLoader(dataset, 8, shuffle=False, collate_fn=collate_func)"
   ]
  },
  {
   "cell_type": "code",
   "execution_count": null,
   "id": "6ff1e6c7",
   "metadata": {},
   "outputs": [],
   "source": [
    "model.eval()\n",
    "\n",
    "images: Tensor\n",
    "frame_labels: list[FrameLabels]\n",
    "metrics_calculator = MetricsCalculator(model.num_classes)\n",
    "image_detections: list[dict[str, Tensor]] = []\n",
    "image_labels: list[dict[str, Tensor]] = []\n",
    "for images, frame_labels in tqdm(data_loader):\n",
    "    with torch.no_grad():\n",
    "        head_outputs, anchors = model.forward(images)\n",
    "        frame_detections = model._post_process_detections(head_outputs, anchors, CONFIG.min_confidence_threshold, CONFIG.num_top_k, CONFIG.nms_iou_threshold)\n",
    "\n",
    "        metrics_calculator.update(frame_detections, frame_labels)"
   ]
  },
  {
   "cell_type": "code",
   "execution_count": null,
   "id": "b79fd1d5",
   "metadata": {},
   "outputs": [],
   "source": [
    "tps = metrics_calculator.tps()"
   ]
  },
  {
   "cell_type": "code",
   "execution_count": null,
   "id": "e6301579",
   "metadata": {},
   "outputs": [],
   "source": [
    "tps.max()"
   ]
  },
  {
   "cell_type": "code",
   "execution_count": null,
   "id": "c3647175",
   "metadata": {},
   "outputs": [],
   "source": [
    "tps.max(dim=0)"
   ]
  },
  {
   "cell_type": "code",
   "execution_count": null,
   "id": "24eaa0cc",
   "metadata": {},
   "outputs": [],
   "source": []
  }
 ],
 "metadata": {
  "kernelspec": {
   "display_name": "ssd-3.11",
   "language": "python",
   "name": "python3"
  },
  "language_info": {
   "codemirror_mode": {
    "name": "ipython",
    "version": 3
   },
   "file_extension": ".py",
   "mimetype": "text/x-python",
   "name": "python",
   "nbconvert_exporter": "python",
   "pygments_lexer": "ipython3",
   "version": "3.11.13"
  }
 },
 "nbformat": 4,
 "nbformat_minor": 5
}
